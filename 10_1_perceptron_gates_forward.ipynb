{
  "nbformat": 4,
  "nbformat_minor": 0,
  "metadata": {
    "colab": {
      "name": "10_1_perceptron_gates_forward.ipynb",
      "provenance": [],
      "collapsed_sections": [],
      "authorship_tag": "ABX9TyP4U8p9VDXqJ7FEQNWmr4V+",
      "include_colab_link": true
    },
    "kernelspec": {
      "name": "python3",
      "display_name": "Python 3"
    }
  },
  "cells": [
    {
      "cell_type": "markdown",
      "metadata": {
        "id": "view-in-github",
        "colab_type": "text"
      },
      "source": [
        "<a href=\"https://colab.research.google.com/github/JaeHongChoe/2020AI/blob/master/10_1_perceptron_gates_forward.ipynb\" target=\"_parent\"><img src=\"https://colab.research.google.com/assets/colab-badge.svg\" alt=\"Open In Colab\"/></a>"
      ]
    },
    {
      "cell_type": "code",
      "metadata": {
        "id": "I3wzKbY8Wgpn",
        "colab_type": "code",
        "colab": {}
      },
      "source": [
        "import numpy as np"
      ],
      "execution_count": null,
      "outputs": []
    },
    {
      "cell_type": "code",
      "metadata": {
        "id": "xRQ7pAWbWoAI",
        "colab_type": "code",
        "colab": {}
      },
      "source": [
        "def AND(x1, x2):\n",
        " x = np.array([x1, x2])\n",
        " w = np.array([0.5, 0.5])\n",
        " b = -0.7\n",
        " tmp = w[0]*x[0] + w[1]*x[1] + b # tmp = np.sum(w*x) + b\n",
        " #print('tmp=',tmp)\n",
        " if tmp <= 0:\n",
        "  return 0\n",
        " else:\n",
        "  return 1"
      ],
      "execution_count": null,
      "outputs": []
    },
    {
      "cell_type": "code",
      "metadata": {
        "id": "3Ds9CBj1WtfI",
        "colab_type": "code",
        "colab": {
          "base_uri": "https://localhost:8080/",
          "height": 34
        },
        "outputId": "8daeae62-b753-4a99-8be1-0a96728b9118"
      },
      "source": [
        "AND(1,0)"
      ],
      "execution_count": null,
      "outputs": [
        {
          "output_type": "execute_result",
          "data": {
            "text/plain": [
              "0"
            ]
          },
          "metadata": {
            "tags": []
          },
          "execution_count": 3
        }
      ]
    },
    {
      "cell_type": "code",
      "metadata": {
        "id": "DTLU1g6wWvU_",
        "colab_type": "code",
        "colab": {
          "base_uri": "https://localhost:8080/",
          "height": 34
        },
        "outputId": "a0b6d7b1-b587-420b-a01f-32479674e6fe"
      },
      "source": [
        "AND(1,1)"
      ],
      "execution_count": null,
      "outputs": [
        {
          "output_type": "execute_result",
          "data": {
            "text/plain": [
              "1"
            ]
          },
          "metadata": {
            "tags": []
          },
          "execution_count": 4
        }
      ]
    },
    {
      "cell_type": "code",
      "metadata": {
        "id": "-GKx__IRW8sE",
        "colab_type": "code",
        "colab": {
          "base_uri": "https://localhost:8080/",
          "height": 34
        },
        "outputId": "77658e4c-d2b9-4b1d-f6b9-088de0c84d83"
      },
      "source": [
        "AND(0,1)"
      ],
      "execution_count": null,
      "outputs": [
        {
          "output_type": "execute_result",
          "data": {
            "text/plain": [
              "0"
            ]
          },
          "metadata": {
            "tags": []
          },
          "execution_count": 5
        }
      ]
    },
    {
      "cell_type": "markdown",
      "metadata": {
        "id": "sjrZutPJXVgS",
        "colab_type": "text"
      },
      "source": [
        "#NAND Gate"
      ]
    },
    {
      "cell_type": "code",
      "metadata": {
        "id": "edOp39YFXXFJ",
        "colab_type": "code",
        "colab": {}
      },
      "source": [
        "def NAND(x1, x2):\n",
        " x = np.array([x1, x2])\n",
        " w = np.array([-0.5, -0.5])\n",
        " b = 0.7\n",
        " tmp = w[0]*x[0] + w[1]*x[1] + b\n",
        " if tmp <= 0:\n",
        "  return 0\n",
        " else:\n",
        "  return 1\n"
      ],
      "execution_count": null,
      "outputs": []
    },
    {
      "cell_type": "code",
      "metadata": {
        "id": "WWx3A-tmXgVl",
        "colab_type": "code",
        "colab": {
          "base_uri": "https://localhost:8080/",
          "height": 34
        },
        "outputId": "f7ec747c-5111-463f-bdbc-36c8a76e5521"
      },
      "source": [
        "NAND(0,0)"
      ],
      "execution_count": null,
      "outputs": [
        {
          "output_type": "execute_result",
          "data": {
            "text/plain": [
              "1"
            ]
          },
          "metadata": {
            "tags": []
          },
          "execution_count": 7
        }
      ]
    },
    {
      "cell_type": "code",
      "metadata": {
        "id": "vJDGPJKiXi-D",
        "colab_type": "code",
        "colab": {
          "base_uri": "https://localhost:8080/",
          "height": 34
        },
        "outputId": "639801fd-4ae7-4066-ade7-ceeef854d7a7"
      },
      "source": [
        "NAND(0,1)"
      ],
      "execution_count": null,
      "outputs": [
        {
          "output_type": "execute_result",
          "data": {
            "text/plain": [
              "1"
            ]
          },
          "metadata": {
            "tags": []
          },
          "execution_count": 8
        }
      ]
    },
    {
      "cell_type": "code",
      "metadata": {
        "id": "qMdjpbzsXkSz",
        "colab_type": "code",
        "colab": {
          "base_uri": "https://localhost:8080/",
          "height": 34
        },
        "outputId": "f59c0fb1-c40c-40af-df2a-c2313ccd6753"
      },
      "source": [
        "NAND(1,1)"
      ],
      "execution_count": null,
      "outputs": [
        {
          "output_type": "execute_result",
          "data": {
            "text/plain": [
              "0"
            ]
          },
          "metadata": {
            "tags": []
          },
          "execution_count": 9
        }
      ]
    },
    {
      "cell_type": "code",
      "metadata": {
        "id": "nP6O7ml6aR9e",
        "colab_type": "code",
        "colab": {
          "base_uri": "https://localhost:8080/",
          "height": 34
        },
        "outputId": "1fe4b885-c0d3-4216-a05b-96b5758deb03"
      },
      "source": [
        "NAND(1,0)"
      ],
      "execution_count": null,
      "outputs": [
        {
          "output_type": "execute_result",
          "data": {
            "text/plain": [
              "1"
            ]
          },
          "metadata": {
            "tags": []
          },
          "execution_count": 10
        }
      ]
    },
    {
      "cell_type": "markdown",
      "metadata": {
        "id": "anxOTEpEXwrv",
        "colab_type": "text"
      },
      "source": [
        "#OR Gate"
      ]
    },
    {
      "cell_type": "code",
      "metadata": {
        "id": "PBj-w8cIXmzT",
        "colab_type": "code",
        "colab": {}
      },
      "source": [
        "def OR(x1, x2):\n",
        " x = np.array([x1, x2])\n",
        " w = np.array([0.5, 0.5])\n",
        " b = -0.2\n",
        " tmp = np.sum(w*x) + b\n",
        " if tmp <= 0:\n",
        "  return 0\n",
        " else:\n",
        "  return 1\n"
      ],
      "execution_count": null,
      "outputs": []
    },
    {
      "cell_type": "code",
      "metadata": {
        "id": "iZSh3pOqYX8_",
        "colab_type": "code",
        "colab": {
          "base_uri": "https://localhost:8080/",
          "height": 34
        },
        "outputId": "d7b355b6-6515-419f-bbc4-a03d1522c23c"
      },
      "source": [
        "OR(1,1)"
      ],
      "execution_count": null,
      "outputs": [
        {
          "output_type": "execute_result",
          "data": {
            "text/plain": [
              "1"
            ]
          },
          "metadata": {
            "tags": []
          },
          "execution_count": 12
        }
      ]
    },
    {
      "cell_type": "code",
      "metadata": {
        "id": "lMja-IrEZGzL",
        "colab_type": "code",
        "colab": {
          "base_uri": "https://localhost:8080/",
          "height": 34
        },
        "outputId": "58363a9b-5968-4548-985c-5607e94a90f2"
      },
      "source": [
        "OR(0,1)"
      ],
      "execution_count": null,
      "outputs": [
        {
          "output_type": "execute_result",
          "data": {
            "text/plain": [
              "1"
            ]
          },
          "metadata": {
            "tags": []
          },
          "execution_count": 13
        }
      ]
    },
    {
      "cell_type": "code",
      "metadata": {
        "id": "FkFfOSKGZIM2",
        "colab_type": "code",
        "colab": {
          "base_uri": "https://localhost:8080/",
          "height": 34
        },
        "outputId": "564ac892-9c1c-40a1-b966-0095818ec325"
      },
      "source": [
        "OR(0,0)"
      ],
      "execution_count": null,
      "outputs": [
        {
          "output_type": "execute_result",
          "data": {
            "text/plain": [
              "0"
            ]
          },
          "metadata": {
            "tags": []
          },
          "execution_count": 14
        }
      ]
    },
    {
      "cell_type": "markdown",
      "metadata": {
        "id": "YVuzlChoZ9wL",
        "colab_type": "text"
      },
      "source": [
        "#XOR Gate\n",
        "모두 같으면 0을 출력하는 XOR은 단층 Percepteron으로 표현이 불가하다."
      ]
    },
    {
      "cell_type": "code",
      "metadata": {
        "id": "qIXT7pTFZKbj",
        "colab_type": "code",
        "colab": {}
      },
      "source": [
        "def XOR(x1, x2):\n",
        " s1 = NAND(x1, x2)\n",
        " s2 = OR(x1, x2)\n",
        " y = AND(s1, s2)\n",
        " return y"
      ],
      "execution_count": null,
      "outputs": []
    },
    {
      "cell_type": "code",
      "metadata": {
        "id": "dCy56oudaDYn",
        "colab_type": "code",
        "colab": {
          "base_uri": "https://localhost:8080/",
          "height": 34
        },
        "outputId": "6e2b4cfe-7d3d-44bc-895e-21c050a2959d"
      },
      "source": [
        "XOR(0,0)"
      ],
      "execution_count": null,
      "outputs": [
        {
          "output_type": "execute_result",
          "data": {
            "text/plain": [
              "0"
            ]
          },
          "metadata": {
            "tags": []
          },
          "execution_count": 16
        }
      ]
    },
    {
      "cell_type": "code",
      "metadata": {
        "id": "SKziL1b6aKAI",
        "colab_type": "code",
        "colab": {
          "base_uri": "https://localhost:8080/",
          "height": 34
        },
        "outputId": "7ddfe091-233f-47bc-bbd7-d8ebe16700ee"
      },
      "source": [
        "XOR(0,1)"
      ],
      "execution_count": null,
      "outputs": [
        {
          "output_type": "execute_result",
          "data": {
            "text/plain": [
              "1"
            ]
          },
          "metadata": {
            "tags": []
          },
          "execution_count": 17
        }
      ]
    },
    {
      "cell_type": "code",
      "metadata": {
        "id": "QPCX6Zg5aK1v",
        "colab_type": "code",
        "colab": {
          "base_uri": "https://localhost:8080/",
          "height": 34
        },
        "outputId": "02c7977a-ad64-4e9a-f287-f461f357dc86"
      },
      "source": [
        "XOR(1,1)"
      ],
      "execution_count": null,
      "outputs": [
        {
          "output_type": "execute_result",
          "data": {
            "text/plain": [
              "0"
            ]
          },
          "metadata": {
            "tags": []
          },
          "execution_count": 18
        }
      ]
    },
    {
      "cell_type": "code",
      "metadata": {
        "id": "gomVm7iraLyB",
        "colab_type": "code",
        "colab": {
          "base_uri": "https://localhost:8080/",
          "height": 34
        },
        "outputId": "ab20728a-fa93-4d90-d343-6d924cf97b1e"
      },
      "source": [
        "XOR(1,0)"
      ],
      "execution_count": null,
      "outputs": [
        {
          "output_type": "execute_result",
          "data": {
            "text/plain": [
              "1"
            ]
          },
          "metadata": {
            "tags": []
          },
          "execution_count": 19
        }
      ]
    },
    {
      "cell_type": "code",
      "metadata": {
        "id": "bom4ZqSoaOMr",
        "colab_type": "code",
        "colab": {}
      },
      "source": [
        ""
      ],
      "execution_count": null,
      "outputs": []
    }
  ]
}